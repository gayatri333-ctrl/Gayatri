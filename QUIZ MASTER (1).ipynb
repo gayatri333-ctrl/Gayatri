{
 "cells": [
  {
   "cell_type": "code",
   "execution_count": 1,
   "id": "56068f9d-3067-4b46-8471-d962c8701252",
   "metadata": {
    "scrolled": true
   },
   "outputs": [
    {
     "name": "stdout",
     "output_type": "stream",
     "text": [
      "Welcome to Quiz Master!\n",
      "\n",
      "Category: Sports\n",
      "Question: Who is the all-time leading scorer in the NBA?\n",
      "1. Michael Jordan\n",
      "2. Kareem Abdul-Jabbar\n",
      "3. LeBron James\n"
     ]
    },
    {
     "name": "stdin",
     "output_type": "stream",
     "text": [
      "Enter your answer (1-3):  1\n"
     ]
    },
    {
     "name": "stdout",
     "output_type": "stream",
     "text": [
      "Sorry, the correct answer is Kareem Abdul-Jabbar\n",
      "\n",
      "Category: Sports\n",
      "Question: Which team won the first Super Bowl?\n",
      "1. Green Bay Packers\n",
      "2. New York Giants\n",
      "3. Chicago Bears\n"
     ]
    },
    {
     "name": "stdin",
     "output_type": "stream",
     "text": [
      "Enter your answer (1-3):  2\n"
     ]
    },
    {
     "name": "stdout",
     "output_type": "stream",
     "text": [
      "Sorry, the correct answer is Green Bay Packers\n",
      "\n",
      "Quiz over! Your final score is 0/2\n"
     ]
    }
   ],
   "source": [
    "\n",
    "\n",
    "\n",
    "import random\n",
    "\n",
    "# Quiz Data\n",
    "quiz_data = {\n",
    "    \"History\": [\n",
    "        {\"question\": \"Who was the first President of the United States?\", \"answers\": [\"George Washington\", \"Thomas Jefferson\", \"Abraham Lincoln\"], \"correct\": 0},\n",
    "        {\"question\": \"Which event occurred on July 4, 1776?\", \"answers\": [\"Declaration of Independence\", \"American Revolution\", \"Constitution Signing\"], \"correct\": 0}\n",
    "    ],\n",
    "    \"Science\": [\n",
    "        {\"question\": \"What is the largest planet in our solar system?\", \"answers\": [\"Jupiter\", \"Saturn\", \"Uranus\"], \"correct\": 0},\n",
    "        {\"question\": \"Who discovered gravity?\", \"answers\": [\"Isaac Newton\", \"Galileo Galilei\", \"Albert Einstein\"], \"correct\": 0}\n",
    "    ],\n",
    "    \"Sports\": [\n",
    "        {\"question\": \"Which team won the first Super Bowl?\", \"answers\": [\"Green Bay Packers\", \"New York Giants\", \"Chicago Bears\"], \"correct\": 0},\n",
    "        {\"question\": \"Who is the all-time leading scorer in the NBA?\", \"answers\": [\"Michael Jordan\", \"Kareem Abdul-Jabbar\", \"LeBron James\"], \"correct\": 1}\n",
    "    ]\n",
    "}\n",
    "\n",
    "def quiz_master():1\n",
    "    print(\"Welcome to Quiz Master!\")\n",
    "    score = 0\n",
    "    category = random.choice(list(quiz_data.keys()))\n",
    "    questions = quiz_data[category]\n",
    "    random.shuffle(questions)\n",
    "\n",
    "    for question in questions:\n",
    "        print(f\"\\nCategory: {category}\\nQuestion: {question['question']}\")\n",
    "        for i, answer in enumerate(question[\"answers\"]):\n",
    "            print(f\"{i+1}. {answer}\")\n",
    "        user_answer = int(input(\"Enter your answer (1-3): \")) - 1\n",
    "\n",
    "        if user_answer == question[\"correct\"]:\n",
    "            print(\"Correct!\")\n",
    "            score += 1\n",
    "        else:\n",
    "            print(f\"Sorry, the correct answer is {question['answers'][question['correct']]}\")\n",
    "\n",
    "    print(f\"\\nQuiz over! Your final score is {score}/{len(questions)}\")\n",
    "\n",
    "quiz_master()\n",
    "\n",
    "\n"
   ]
  },
  {
   "cell_type": "code",
   "execution_count": null,
   "id": "3f3f5c90-e4a3-4aa3-82fe-4589850a2e41",
   "metadata": {},
   "outputs": [],
   "source": []
  }
 ],
 "metadata": {
  "kernelspec": {
   "display_name": "Python 3 (ipykernel)",
   "language": "python",
   "name": "python3"
  },
  "language_info": {
   "codemirror_mode": {
    "name": "ipython",
    "version": 3
   },
   "file_extension": ".py",
   "mimetype": "text/x-python",
   "name": "python",
   "nbconvert_exporter": "python",
   "pygments_lexer": "ipython3",
   "version": "3.12.4"
  }
 },
 "nbformat": 4,
 "nbformat_minor": 5
}
